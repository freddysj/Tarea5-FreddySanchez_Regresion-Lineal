{
 "cells": [
  {
   "cell_type": "markdown",
   "metadata": {
    "id": "U_wvZS1lcWs7"
   },
   "source": [
    "**Universidad Nacional Abierta y a Distancia**\n",
    "\n",
    "**Curso:** Análisis de datos\n",
    "\n",
    "Tarea 5. Algoritmos de Aprendizaje Supervisado\n",
    "\n",
    "**Presentado Por:** Freddy Ernesto Sánchez Jerez\n",
    "\n",
    "**Grupo:** 202016908_76"
   ]
  },
  {
   "cell_type": "markdown",
   "metadata": {
    "id": "bwY8KTlPcaoo"
   },
   "source": [
    "# Tabla de contenido\n",
    "\n",
    "1. Introduccion\n",
    "\n",
    "    * 1.1 Ajustar ambiente de programación\n",
    "    * 1.2. Carga información\n",
    "\n",
    "2. Regresión lineal\n",
    "\n",
    "    * 2.1 Análisis exploratorio de datos (EDA)\n",
    "    * 2.2 Preprocesamiento de datos\n",
    "    * 2.3 Selección de características\n",
    "    * 2.4 División del Dataset en Train y Test\n",
    "    * 2.5 Entrenar el Modelo de Regresión Lineal\n",
    "    * 2.6 Evaluar desempeño del Modelo\n",
    "    * 2.7. Visualización de resultados\n",
    "    \n",
    "3. Conclusiones"
   ]
  },
  {
   "cell_type": "markdown",
   "metadata": {
    "id": "_C4YOwj2ca7Z"
   },
   "source": [
    "# 1. Introducción"
   ]
  },
  {
   "cell_type": "markdown",
   "metadata": {},
   "source": [
    "En esta tarea se realizará paso a paso un modelo de aprendizaje supervisado para el Titanic Dataset, Set de datos sobre los pasajeros del Titanic. \n",
    "Permite practicar modelos de clasificación y regresión para predecir quién sobrevivió al naufragio."
   ]
  },
  {
   "cell_type": "markdown",
   "metadata": {},
   "source": [
    "## 1.1. Ajustar ambiente de programación"
   ]
  },
  {
   "cell_type": "code",
   "execution_count": 5,
   "metadata": {},
   "outputs": [],
   "source": [
    "## Instalar librerias necesarias\n",
    "#!pip install pandas\n",
    "#!pip install matplotlib\n",
    "#!pip install -U scikit-learn\n",
    "#!pip install kagglehub\n",
    "#!pip install seaborn"
   ]
  },
  {
   "cell_type": "markdown",
   "metadata": {},
   "source": [
    "## 1.2. Carga información"
   ]
  },
  {
   "cell_type": "code",
   "execution_count": 33,
   "metadata": {},
   "outputs": [
    {
     "name": "stdout",
     "output_type": "stream",
     "text": [
      "Path to dataset files: C:\\Users\\Fredd\\.cache\\kagglehub\\datasets\\yasserh\\titanic-dataset\\versions\\1\n"
     ]
    }
   ],
   "source": [
    "# Download latest version\n",
    "path = kagglehub.dataset_download(\"yasserh/titanic-dataset\")\n",
    "\n",
    "print(\"Path to dataset files:\", path)"
   ]
  },
  {
   "cell_type": "code",
   "execution_count": 34,
   "metadata": {},
   "outputs": [
    {
     "data": {
      "text/plain": [
       "['Titanic-Dataset.csv']"
      ]
     },
     "execution_count": 34,
     "metadata": {},
     "output_type": "execute_result"
    }
   ],
   "source": [
    "os.listdir(path)"
   ]
  },
  {
   "cell_type": "markdown",
   "metadata": {
    "id": "PQhDowAEaT0u"
   },
   "source": [
    "## 2.1 Análisis exploratorio de datos (EDA)\n",
    "El objetivo de esta fase es entender la estructura de los datos, identificar valores atípicos, relaciones entre variables, distribuciones y tendencias."
   ]
  },
  {
   "cell_type": "code",
   "execution_count": 35,
   "metadata": {},
   "outputs": [
    {
     "name": "stdout",
     "output_type": "stream",
     "text": [
      "Path to dataset files: C:\\Users\\Fredd\\.cache\\kagglehub\\datasets\\yasserh\\titanic-dataset\\versions\\1\n",
      "Files in dataset: ['Titanic-Dataset.csv']\n",
      "   PassengerId  Survived  Pclass                                               Name     Sex   Age  SibSp  Parch            Ticket     Fare Cabin Embarked\n",
      "0            1         0       3                            Braund, Mr. Owen Harris    male  22.0      1      0         A/5 21171   7.2500   NaN        S\n",
      "1            2         1       1  Cumings, Mrs. John Bradley (Florence Briggs Th...  female  38.0      1      0          PC 17599  71.2833   C85        C\n",
      "2            3         1       3                             Heikkinen, Miss. Laina  female  26.0      0      0  STON/O2. 3101282   7.9250   NaN        S\n",
      "3            4         1       1       Futrelle, Mrs. Jacques Heath (Lily May Peel)  female  35.0      1      0            113803  53.1000  C123        S\n",
      "4            5         0       3                           Allen, Mr. William Henry    male  35.0      0      0            373450   8.0500   NaN        S\n",
      "<class 'pandas.core.frame.DataFrame'>\n",
      "RangeIndex: 891 entries, 0 to 890\n",
      "Data columns (total 12 columns):\n",
      " #   Column       Non-Null Count  Dtype  \n",
      "---  ------       --------------  -----  \n",
      " 0   PassengerId  891 non-null    int64  \n",
      " 1   Survived     891 non-null    int64  \n",
      " 2   Pclass       891 non-null    int64  \n",
      " 3   Name         891 non-null    object \n",
      " 4   Sex          891 non-null    object \n",
      " 5   Age          714 non-null    float64\n",
      " 6   SibSp        891 non-null    int64  \n",
      " 7   Parch        891 non-null    int64  \n",
      " 8   Ticket       891 non-null    object \n",
      " 9   Fare         891 non-null    float64\n",
      " 10  Cabin        204 non-null    object \n",
      " 11  Embarked     889 non-null    object \n",
      "dtypes: float64(2), int64(5), object(5)\n",
      "memory usage: 83.7+ KB\n",
      "None\n",
      "       PassengerId    Survived      Pclass         Age       SibSp       Parch        Fare\n",
      "count   891.000000  891.000000  891.000000  714.000000  891.000000  891.000000  891.000000\n",
      "mean    446.000000    0.383838    2.308642   29.699118    0.523008    0.381594   32.204208\n",
      "std     257.353842    0.486592    0.836071   14.526497    1.102743    0.806057   49.693429\n",
      "min       1.000000    0.000000    1.000000    0.420000    0.000000    0.000000    0.000000\n",
      "25%     223.500000    0.000000    2.000000   20.125000    0.000000    0.000000    7.910400\n",
      "50%     446.000000    0.000000    3.000000   28.000000    0.000000    0.000000   14.454200\n",
      "75%     668.500000    1.000000    3.000000   38.000000    1.000000    0.000000   31.000000\n",
      "max     891.000000    1.000000    3.000000   80.000000    8.000000    6.000000  512.329200\n",
      "Valores faltantes por columna:\n",
      "PassengerId      0\n",
      "Survived         0\n",
      "Pclass           0\n",
      "Name             0\n",
      "Sex              0\n",
      "Age            177\n",
      "SibSp            0\n",
      "Parch            0\n",
      "Ticket           0\n",
      "Fare             0\n",
      "Cabin          687\n",
      "Embarked         2\n",
      "dtype: int64\n"
     ]
    },
    {
     "data": {
      "image/png": "[encoded data removed]",
      "text/plain": [
       "<Figure size 1000x800 with 2 Axes>"
      ]
     },
     "metadata": {},
     "output_type": "display_data"
    }
   ],
   "source": [
    "import os\n",
    "import re\n",
    "import pandas as pd\n",
    "import numpy as np\n",
    "import matplotlib.pyplot as plt\n",
    "import seaborn as sns\n",
    "import kagglehub\n",
    "\n",
    "# Descargar la versión más reciente del dataset\n",
    "path = kagglehub.dataset_download(\"yasserh/titanic-dataset\")\n",
    "\n",
    "# Confirmar el archivo descargado\n",
    "print(\"Path to dataset files:\", path)\n",
    "dataset_files = os.listdir(path)\n",
    "print(\"Files in dataset:\", dataset_files)\n",
    "\n",
    "# Ruta del archivo CSV\n",
    "csv_file = os.path.join(path, 'Titanic-Dataset.csv')\n",
    "\n",
    "# Cargar el dataset\n",
    "titanic_data = pd.read_csv(csv_file)\n",
    "\n",
    "# Ver las primeras filas del dataset\n",
    "print(titanic_data.head())\n",
    "\n",
    "# Información general sobre el dataset\n",
    "print(titanic_data.info())\n",
    "\n",
    "# Descripción estadística de los datos numéricos\n",
    "print(titanic_data.describe())\n",
    "\n",
    "# Ver la cantidad de valores faltantes por columna\n",
    "print(\"Valores faltantes por columna:\")\n",
    "print(titanic_data.isnull().sum())\n",
    "\n",
    "# Filtrar solo las columnas numéricas\n",
    "numeric_data = titanic_data.select_dtypes(include=[np.number])\n",
    "\n",
    "# Imputar valores faltantes con la media para las columnas numéricas\n",
    "numeric_data = numeric_data.fillna(numeric_data.mean())\n",
    "\n",
    "# Visualizar la correlación entre variables numéricas\n",
    "plt.figure(figsize=(10, 8))\n",
    "correlation_matrix = numeric_data.corr()  # Usar solo las columnas numéricas\n",
    "sns.heatmap(correlation_matrix, annot=True, cmap='coolwarm', linewidths=0.5)\n",
    "plt.title('Correlación entre variables numéricas')\n",
    "plt.show()"
   ]
  },
  {
   "cell_type": "markdown",
   "metadata": {},
   "source": [
    "- Distribución de los datos: La mayoría de las variables pueden ser categóricas (por ejemplo, **Survived**, **Pclass**, **Sex**) o numéricas (por ejemplo, **Age**, **Fare**). Al visualizar la distribución de estas variables, es importante notar las proporciones de sobrevivientes y no sobrevivientes, la distribución de edades, tarifas de boletos, etc.\n",
    "\n",
    "- Relaciones entre variables: Se pueden identificar relaciones entre la variable objetivo (**Survived**) y otras variables. Por ejemplo, se espera que las personas en clases más altas (**Pclass**) tengan una mayor probabilidad de sobrevivir. El género también puede tener una relación significativa con la supervivencia, ya que históricamente se ha mostrado que las mujeres tuvieron una mayor tasa de supervivencia en el Titanic.\n",
    "\n",
    "- Identificación de valores atípicos: Las variables como **Fare** pueden contener valores atípicos que podrían afectar el análisis. Se deben identificar mediante diagramas de caja o análisis estadísticos.\n",
    "\n",
    "- Tendencias: Se puede observar si hay tendencias, como la supervivencia en función de la edad, clase, o género."
   ]
  },
  {
   "cell_type": "markdown",
   "metadata": {},
   "source": [
    "# 2. Preprocesamiento de los Datos\n",
    "En esta fase, nos encargaremos de limpiar los datos, tratar los valores faltantes, transformar las variables y realizar la codificación de las variables categóricas."
   ]
  },
  {
   "cell_type": "code",
   "execution_count": null,
   "metadata": {},
   "outputs": [],
   "source": [
    "# Rellenar valores faltantes en 'Age' con la mediana\n",
    "titanic_data['Age'].fillna(titanic_data['Age'].median(), inplace=True)\n",
    "\n",
    "# Rellenar valores faltantes en 'Embarked' con el valor más frecuente\n",
    "titanic_data['Embarked'].fillna(titanic_data['Embarked'].mode()[0], inplace=True)\n",
    "\n",
    "# Rellenar valores faltantes en 'Fare' con la mediana\n",
    "titanic_data['Fare'].fillna(titanic_data['Fare'].median(), inplace=True)\n",
    "\n",
    "# Eliminar la columna 'Cabin' debido a la gran cantidad de valores faltantes\n",
    "titanic_data.drop(columns=['Cabin'], inplace=True)\n",
    "\n",
    "# Codificar variables categóricas: 'Sex' y 'Embarked'\n",
    "titanic_data['Sex'] = titanic_data['Sex'].map({'male': 0, 'female': 1})\n",
    "titanic_data['Embarked'] = titanic_data['Embarked'].map({'C': 0, 'Q': 1, 'S': 2})\n",
    "\n",
    "# Eliminar la columna 'Name' ya que no aporta información relevante para el modelo\n",
    "titanic_data.drop(columns=['Name', 'Ticket'], inplace=True)\n",
    "\n",
    "# Verificar los datos limpios\n",
    "print(titanic_data.isnull().sum())\n",
    "print(titanic_data.head())"
   ]
  },
  {
   "cell_type": "markdown",
   "metadata": {},
   "source": [
    "- Hemos rellenado los valores faltantes para las variables 'Age', 'Embarked' y 'Fare', utilizando la mediana para las variables numéricas y el valor más frecuente para la categórica.\n",
    "- Eliminamos la columna 'Cabin' debido a que tiene demasiados valores nulos.\n",
    "- Codificamos las variables categóricas (**'Sex'**, **'Embarked'** y **Pclass**) usando codificación binaria y ordinal respectivamente de manera que el modelo pueda procesarlas. Esto se puede hacer usando Label Encoding o One-Hot Encoding.\n",
    "- Se eliminan las columnas irrelevantes como **'Name'** y **'Ticket'**.\n",
    "- Se realiza un escalado de datos numéricos en variables como **Age** y **Fare** pueden necesitar ser escaladas para que estén en el mismo rango de valores. Esto se puede hacer utilizando técnicas como StandardScaler o MinMaxScaler.\n",
    "- En la transformación de datos realizada se le podrían aplicar transformaciones a las variables numéricas si se detecta una distribución sesgada (por ejemplo, logaritmo de la tarifa de los boletos)."
   ]
  },
  {
   "cell_type": "markdown",
   "metadata": {},
   "source": [
    "## 2.3 Selección de características\n",
    "\n",
    "La selección de características nos ayuda a determinar qué variables serán utilizadas en el modelo. Para este caso, seleccionaremos las variables más relevantes en función de la correlación y la importancia de las características."
   ]
  },
  {
   "cell_type": "code",
   "execution_count": null,
   "metadata": {},
   "outputs": [],
   "source": [
    "# Analizar correlaciones y seleccionar variables\n",
    "X = titanic_data.drop(columns=['Survived'])\n",
    "y = titanic_data['Survived']\n",
    "\n",
    "# Graficar la relación de las características con la variable objetivo\n",
    "sns.heatmap(X.corr(), annot=True, cmap='coolwarm')\n",
    "plt.title('Correlación entre características y la variable objetivo')\n",
    "plt.show()\n",
    "\n",
    "# Se pueden seleccionar variables de acuerdo a las correlaciones observadas"
   ]
  },
  {
   "cell_type": "markdown",
   "metadata": {},
   "source": [
    "- Se observa la correlación entre las características y la variable objetivo 'Survived'. Usualmente, variables como 'Pclass', 'Sex', 'Age', 'Fare', etc., son las más relevantes.\n",
    "- Usamos pruebas de correlación para identificar variables que están fuertemente correlacionadas con la variable objetivo (Survived).\n",
    "- Usamos técnicas como PCA (Análisis de Componentes Principales) para reducir las características, manteniendo las más relevantes."
   ]
  },
  {
   "cell_type": "markdown",
   "metadata": {},
   "source": [
    "## 2.4 División del Dataset en Train y Test\n",
    "\n",
    "Dividimos los datos en dos conjuntos: entrenamiento (Train) y prueba (Test) para poder evaluar el rendimiento del modelo en datos no vistos durante el entrenamiento."
   ]
  },
  {
   "cell_type": "code",
   "execution_count": null,
   "metadata": {},
   "outputs": [],
   "source": [
    "from sklearn.model_selection import train_test_split\n",
    "\n",
    "# Dividir el dataset en Train y Test (80% Train, 20% Test)\n",
    "X_train, X_test, y_train, y_test = train_test_split(X, y, test_size=0.2, random_state=42)\n",
    "\n",
    "print(f\"Tamaño de X_train: {X_train.shape}\")\n",
    "print(f\"Tamaño de X_test: {X_test.shape}\")"
   ]
  },
  {
   "cell_type": "markdown",
   "metadata": {},
   "source": [
    "- 80% de los datos se usan para entrenar el modelo, mientras que el 20% restante se utiliza para evaluar el desempeño del modelo. Esto asegura que el modelo sea entrenado en una porción del conjunto de datos y evaluado en una porción diferente, lo que permite obtener una estimación imparcial del rendimiento del modelo.\n",
    "- Para obtener una evaluación más robusta, aplicamos la validación cruzada para asegurar que el modelo generalice bien a datos no vistos."
   ]
  },
  {
   "cell_type": "markdown",
   "metadata": {},
   "source": [
    "## 2.5 Entrenar el Modelo de Regresión Lineal\n",
    "\n",
    "Entrenamos el modelo utilizando Regresión Logística ya que la variable objetivo ('Survived') es binaria (0 o 1)."
   ]
  },
  {
   "cell_type": "code",
   "execution_count": 30,
   "metadata": {},
   "outputs": [],
   "source": [
    "from sklearn.linear_model import LogisticRegression\n",
    "\n",
    "# Crear el modelo de regresión logística\n",
    "model = LogisticRegression()\n",
    "\n",
    "# Entrenar el modelo\n",
    "model.fit(X_train, y_train)\n",
    "\n",
    "# Hacer predicciones\n",
    "y_pred = model.predict(X_test)"
   ]
  },
  {
   "cell_type": "markdown",
   "metadata": {},
   "source": [
    "- Se usa Regresión Logística para predecir la probabilidad de supervivencia (una tarea de clasificación binaria).\n",
    "- Entrenamos el modelo con los datos de entrenamiento y realizamos predicciones sobre los datos de prueba."
   ]
  },
  {
   "cell_type": "markdown",
   "metadata": {},
   "source": [
    "## 2.6 Evaluar desempeño del Modelo\n",
    "Evaluamos el desempeño del modelo utilizando métricas de clasificación como precisión, recall, F1-score y la matriz de confusión."
   ]
  },
  {
   "cell_type": "code",
   "execution_count": null,
   "metadata": {},
   "outputs": [],
   "source": [
    "from sklearn.metrics import accuracy_score, precision_score, recall_score, f1_score, confusion_matrix\n",
    "\n",
    "# Evaluación del modelo\n",
    "accuracy = accuracy_score(y_test, y_pred)\n",
    "precision = precision_score(y_test, y_pred)\n",
    "recall = recall_score(y_test, y_pred)\n",
    "f1 = f1_score(y_test, y_pred)\n",
    "conf_matrix = confusion_matrix(y_test, y_pred)\n",
    "\n",
    "print(f\"Precisión: {accuracy}\")\n",
    "print(f\"Precisión: {precision}\")\n",
    "print(f\"Recall: {recall}\")\n",
    "print(f\"F1 Score: {f1}\")\n",
    "print(\"Matriz de confusión:\")\n",
    "print(conf_matrix)"
   ]
  },
  {
   "cell_type": "markdown",
   "metadata": {},
   "source": [
    "- Una vez que el modelo ha sido entrenado, se evalúa utilizando el conjunto de datos de prueba.\n",
    "- Precisión: Mide la proporción de predicciones correctas en relación al total de predicciones.\n",
    "- Recall: Mide la capacidad del modelo para identificar todos los casos positivos.\n",
    "- F1 Score: Es la media armónica entre precisión y recall.\n",
    "- Matriz de confusión: Muestra los verdaderos positivos, falsos positivos, verdaderos negativos y falsos negativos.\n",
    "- Con base en estos resultados, podemos tomar la decisión que el modelo es adecuado para ser utilizado en producción."
   ]
  },
  {
   "cell_type": "markdown",
   "metadata": {},
   "source": [
    "## 2.7. Visualización de resultados\n",
    "Finalmente, visualizamos los resultados utilizando gráficas."
   ]
  },
  {
   "cell_type": "code",
   "execution_count": null,
   "metadata": {},
   "outputs": [],
   "source": [
    "# Gráfica de la matriz de confusión\n",
    "sns.heatmap(conf_matrix, annot=True, fmt='d', cmap='Blues', xticklabels=['No', 'Sí'], yticklabels=['No', 'Sí'])\n",
    "plt.xlabel('Predicción')\n",
    "plt.ylabel('Real')\n",
    "plt.title('Matriz de Confusión')\n",
    "plt.show()\n",
    "\n",
    "# Gráfica de precisión, recall y F1 Score\n",
    "metrics = [accuracy, precision, recall, f1]\n",
    "metrics_names = ['Precisión', 'Precisión', 'Recall', 'F1 Score']\n",
    "\n",
    "plt.bar(metrics_names, metrics, color='skyblue')\n",
    "plt.title('Evaluación del Modelo')\n",
    "plt.xlabel('Métrica')\n",
    "plt.ylabel('Valor')\n",
    "plt.show()"
   ]
  },
  {
   "cell_type": "markdown",
   "metadata": {},
   "source": [
    "- La matriz de confusión muestra cómo se clasificaron correctamente los datos y cuáles fueron los errores.\n",
    "- El gráfico de precisión, recall y F1-score proporciona una visión general del rendimiento del modelo."
   ]
  },
  {
   "cell_type": "markdown",
   "metadata": {},
   "source": [
    "# 5. Conclusiones\n",
    "- Se entrenó un modelo de Regresión Logística para predecir la supervivencia en el Titanic.\n",
    "- El análisis exploratorio de los datos reveló relaciones importantes y posibles problemas con valores faltantes, que fueron corregidos.\n",
    "- La evaluación mostró el desempeño del modelo, con precisión y recall como métricas clave.\n",
    "- A través de la visualización, se comprendió mejor el comportamiento del modelo."
   ]
  }
 ],
 "metadata": {
  "colab": {
   "collapsed_sections": [
    "DOFyQC7qOe2T",
    "JiJCOO6mOp9g",
    "2nnt67rmi9UM",
    "kaBstxU6jV4T",
    "N67c5p1ejgsZ",
    "1kzMgJ6ejmZA"
   ],
   "name": "DS4A Project, Cohort 5 - Team 5",
   "provenance": []
  },
  "kernelspec": {
   "display_name": "Python 3",
   "language": "python",
   "name": "python3"
  },
  "language_info": {
   "codemirror_mode": {
    "name": "ipython",
    "version": 3
   },
   "file_extension": ".py",
   "mimetype": "text/x-python",
   "name": "python",
   "nbconvert_exporter": "python",
   "pygments_lexer": "ipython3",
   "version": "3.13.0"
  }
 },
 "nbformat": 4,
 "nbformat_minor": 1
}
